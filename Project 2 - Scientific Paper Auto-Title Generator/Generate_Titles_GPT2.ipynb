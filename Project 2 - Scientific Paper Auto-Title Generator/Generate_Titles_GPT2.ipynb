{
 "cells": [
  {
   "cell_type": "markdown",
   "id": "587f2195-0a96-4f79-bd24-6347281bba92",
   "metadata": {},
   "source": [
    "# Scientific Paper Title Generator Using GPT-2 \n",
    "\n",
    "The following Notebook outlines the steps required to perform a title generation specific to a body of text. \\\n",
    "In the case below, we will be walking through how to produce an AI generated Title based on Scientific research texts scraped from ArXiv - a popular scientific community forum housing an enormous number of research texts\n",
    "\n",
    "Key Project Objectives:\n",
    "- Data will be scraped from the Open-Access [ArXiv.org Platform](https://arxiv.org/)\n",
    "- Text data will be fed to the GPT-2 Model in order to fine-tune the selected model\n",
    "- Titles will be generated after Fine-tuning is completed\n",
    "\n",
    "Source Information:\n",
    "1) [ArXiv.org](https://arxiv.org/)\n",
    "2) [GPT-2 by HuggingFace](https://huggingface.co/gpt2)\n",
    "3) [ArXiv Scraper Library](https://github.com/Mahdisadjadi/arxivscraper)"
   ]
  },
  {
   "cell_type": "markdown",
   "id": "3a1c9135-0996-41af-b805-b37431d881f2",
   "metadata": {},
   "source": [
    "# 1. Load Libraries"
   ]
  },
  {
   "cell_type": "code",
   "execution_count": null,
   "id": "69da9b13-fff3-4fc1-b5de-a87c712912bb",
   "metadata": {},
   "outputs": [],
   "source": [
    "# Create Requirements file from Dependencies used in Current Environment\n",
    "!pip list > requirements.txt"
   ]
  },
  {
   "cell_type": "code",
   "execution_count": 2,
   "id": "d71a99be-8c84-4abd-b3c6-13bf670a3e7d",
   "metadata": {},
   "outputs": [],
   "source": [
    "# Import libraries to be used\n",
    "import numpy as np\n",
    "import pandas as pd\n",
    "import arxivscraper as ax\n",
    "import gpt_2_simple as gpt2"
   ]
  },
  {
   "cell_type": "markdown",
   "id": "6e905a8e-58d9-485b-b6fd-2d9798bbe953",
   "metadata": {},
   "source": [
    "# 2. Scrape & Retrieve Raw Data from ArXiv\n",
    "\n",
    "Let's look at physics as the main type of research paper as ArXiv has a vast number of those in its database\n",
    "\n",
    "These are specified through the scraper with the `category` tag:\n",
    " - `physics` -- subcategory: Quantum Physics/Mechanics `quant-ph`\n",
    " \n",
    " Let's also explore recent Information from the last 1-2 years\n",
    " \n",
    " A Limitation of using this library however is that the scraper can only target one specific Field at a time. Therefore, we have to scrape 1 group at a time"
   ]
  },
  {
   "cell_type": "code",
   "execution_count": 5,
   "id": "0d3ae870-b2ea-4970-9b06-9c3ebcb76965",
   "metadata": {},
   "outputs": [
    {
     "name": "stdout",
     "output_type": "stream",
     "text": [
      "fetching up to  1000 records...\n",
      "fetching up to  2000 records...\n",
      "fetching up to  3000 records...\n",
      "fetching up to  4000 records...\n",
      "fetching up to  5000 records...\n",
      "fetching up to  6000 records...\n",
      "fetching up to  7000 records...\n",
      "fetching up to  8000 records...\n",
      "fetching up to  9000 records...\n",
      "fetching up to  10000 records...\n",
      "fetching up to  11000 records...\n",
      "fetching up to  12000 records...\n",
      "fetching up to  13000 records...\n",
      "fetching up to  14000 records...\n",
      "fetching up to  15000 records...\n",
      "fetching up to  16000 records...\n",
      "fetching up to  17000 records...\n",
      "fetching up to  18000 records...\n",
      "fetching up to  19000 records...\n",
      "fetching up to  20000 records...\n",
      "fetching up to  21000 records...\n",
      "fetching is completed in 313.2 seconds.\n",
      "Total number of records 3537\n"
     ]
    }
   ],
   "source": [
    "# scraper for arxiv physics\n",
    "scraper = ax.Scraper(category='physics', date_from='2020-01-01',\n",
    "                     date_until='2022-08-03', t=10,\n",
    "                     filters={'categories':['quant-ph']})\n",
    "\n",
    "output = scraper.scrape()"
   ]
  },
  {
   "cell_type": "code",
   "execution_count": 35,
   "id": "e6df391a-9a31-41a6-b51c-c7394fb64c55",
   "metadata": {
    "tags": []
   },
   "outputs": [
    {
     "data": {
      "text/plain": [
       "[{'title': 'a mathematical criterion for single photon sources used in quantum   cryptography',\n",
       "  'id': '0705.1600',\n",
       "  'abstract': 'a single photon source (sps) is very important for quantum computation. in particular, it is essential for secured quantum cryptography. but there is no perfect sps in reality. therefore, probabilistic sps where probability of simultaneous emission of two, three, four and more photon is less than the emission of a single photon are used. since classical photon always comes in bunch, the required single photon source must be nonclassical. in the well-known antibunched state the rate of simultaneous emission of two photon is less than that of single photon. but the requirement of quantum cryptography is a multiphoton version of the antibunched state or the higher order antibunched state. recently we have reported a mathematical criterion for higher order antibunching. here we have shown that any proposal for sps to be used in quantum cryptography should satisfy this criterion. we have studied four wave mixing as a possible candidate of single photon source.',\n",
       "  'categories': 'quant-ph',\n",
       "  'doi': '',\n",
       "  'created': '2007-05-11',\n",
       "  'updated': '',\n",
       "  'authors': ['anirban pathak'],\n",
       "  'affiliation': [],\n",
       "  'url': 'https://arxiv.org/abs/0705.1600'}]"
      ]
     },
     "execution_count": 35,
     "metadata": {},
     "output_type": "execute_result"
    }
   ],
   "source": [
    "output[:1]"
   ]
  },
  {
   "cell_type": "code",
   "execution_count": 20,
   "id": "c5e123b7-e935-4b7e-a299-0dba16f500f4",
   "metadata": {},
   "outputs": [
    {
     "data": {
      "text/html": [
       "<div>\n",
       "<style scoped>\n",
       "    .dataframe tbody tr th:only-of-type {\n",
       "        vertical-align: middle;\n",
       "    }\n",
       "\n",
       "    .dataframe tbody tr th {\n",
       "        vertical-align: top;\n",
       "    }\n",
       "\n",
       "    .dataframe thead th {\n",
       "        text-align: right;\n",
       "    }\n",
       "</style>\n",
       "<table border=\"1\" class=\"dataframe\">\n",
       "  <thead>\n",
       "    <tr style=\"text-align: right;\">\n",
       "      <th></th>\n",
       "      <th>id</th>\n",
       "      <th>title</th>\n",
       "      <th>categories</th>\n",
       "      <th>abstract</th>\n",
       "      <th>doi</th>\n",
       "      <th>created</th>\n",
       "      <th>updated</th>\n",
       "      <th>authors</th>\n",
       "    </tr>\n",
       "  </thead>\n",
       "  <tbody>\n",
       "    <tr>\n",
       "      <th>0</th>\n",
       "      <td>0705.1600</td>\n",
       "      <td>a mathematical criterion for single photon sou...</td>\n",
       "      <td>quant-ph</td>\n",
       "      <td>a single photon source (sps) is very important...</td>\n",
       "      <td></td>\n",
       "      <td>2007-05-11</td>\n",
       "      <td></td>\n",
       "      <td>[anirban pathak]</td>\n",
       "    </tr>\n",
       "    <tr>\n",
       "      <th>1</th>\n",
       "      <td>0706.0697</td>\n",
       "      <td>higher order antibunching in intermediate states</td>\n",
       "      <td>quant-ph</td>\n",
       "      <td>since the introduction of binomial state as an...</td>\n",
       "      <td>10.1016/j.physleta.2008.06.045</td>\n",
       "      <td>2007-06-05</td>\n",
       "      <td></td>\n",
       "      <td>[a verma, n k sharma, a pathak]</td>\n",
       "    </tr>\n",
       "    <tr>\n",
       "      <th>2</th>\n",
       "      <td>0706.2907</td>\n",
       "      <td>optimal quantum source coding with quantum inf...</td>\n",
       "      <td>quant-ph</td>\n",
       "      <td>consider many instances of an arbitrary quadri...</td>\n",
       "      <td>10.1109/tit.2009.2030494</td>\n",
       "      <td>2007-06-20</td>\n",
       "      <td>2020-09-26</td>\n",
       "      <td>[jon yard, igor devetak]</td>\n",
       "    </tr>\n",
       "    <tr>\n",
       "      <th>3</th>\n",
       "      <td>0706.3445</td>\n",
       "      <td>analysis of a recent experimental test of bell...</td>\n",
       "      <td>quant-ph</td>\n",
       "      <td>a recent experiment by brida et al. (arxiv:070...</td>\n",
       "      <td>10.1140/epjd/e2007-00322-3</td>\n",
       "      <td>2007-06-23</td>\n",
       "      <td></td>\n",
       "      <td>[emilio santos]</td>\n",
       "    </tr>\n",
       "    <tr>\n",
       "      <th>4</th>\n",
       "      <td>0708.0859</td>\n",
       "      <td>exponential separation of quantum and classica...</td>\n",
       "      <td>quant-ph</td>\n",
       "      <td>we give the first exponential separation betwe...</td>\n",
       "      <td></td>\n",
       "      <td>2007-08-06</td>\n",
       "      <td></td>\n",
       "      <td>[dmytro gavinsky, pavel pudlák]</td>\n",
       "    </tr>\n",
       "  </tbody>\n",
       "</table>\n",
       "</div>"
      ],
      "text/plain": [
       "          id                                              title categories  \\\n",
       "0  0705.1600  a mathematical criterion for single photon sou...   quant-ph   \n",
       "1  0706.0697   higher order antibunching in intermediate states   quant-ph   \n",
       "2  0706.2907  optimal quantum source coding with quantum inf...   quant-ph   \n",
       "3  0706.3445  analysis of a recent experimental test of bell...   quant-ph   \n",
       "4  0708.0859  exponential separation of quantum and classica...   quant-ph   \n",
       "\n",
       "                                            abstract  \\\n",
       "0  a single photon source (sps) is very important...   \n",
       "1  since the introduction of binomial state as an...   \n",
       "2  consider many instances of an arbitrary quadri...   \n",
       "3  a recent experiment by brida et al. (arxiv:070...   \n",
       "4  we give the first exponential separation betwe...   \n",
       "\n",
       "                              doi     created     updated  \\\n",
       "0                                  2007-05-11               \n",
       "1  10.1016/j.physleta.2008.06.045  2007-06-05               \n",
       "2        10.1109/tit.2009.2030494  2007-06-20  2020-09-26   \n",
       "3      10.1140/epjd/e2007-00322-3  2007-06-23               \n",
       "4                                  2007-08-06               \n",
       "\n",
       "                           authors  \n",
       "0                 [anirban pathak]  \n",
       "1  [a verma, n k sharma, a pathak]  \n",
       "2         [jon yard, igor devetak]  \n",
       "3                  [emilio santos]  \n",
       "4  [dmytro gavinsky, pavel pudlák]  "
      ]
     },
     "execution_count": 20,
     "metadata": {},
     "output_type": "execute_result"
    }
   ],
   "source": [
    "# Let's load the results into a DataFrame to see what they look like, then save them to a csv for future use\n",
    "cols = ('id', 'title', 'categories', 'abstract', 'doi', 'created', 'updated', 'authors')\n",
    "df = pd.DataFrame(output,columns=cols)\n",
    "df.to_csv('Data/Scraped_physics_outputs.csv')\n",
    "df.head()"
   ]
  },
  {
   "cell_type": "code",
   "execution_count": 32,
   "id": "c74376c4-1bb6-4339-9e05-b2fb18ddc64e",
   "metadata": {
    "tags": []
   },
   "outputs": [
    {
     "data": {
      "text/plain": [
       "['a mathematical criterion for single photon sources used in quantum   cryptography',\n",
       " 'higher order antibunching in intermediate states',\n",
       " 'optimal quantum source coding with quantum information at the encoder   and decoder',\n",
       " 'analysis of a recent experimental test of bell inequalities violating   quantum predictions',\n",
       " 'exponential separation of quantum and classical non-interactive   multi-party communication complexity']"
      ]
     },
     "metadata": {},
     "output_type": "display_data"
    }
   ],
   "source": [
    "# Extract title data and export to csv file\n",
    "titles = df.title.tolist()\n",
    "display(titles[:5])\n",
    "\n",
    "np.savetxt('Data/Scraped_physics_titles.csv', np.array(titles), header='Titles',comments=\"\", fmt='%s')"
   ]
  },
  {
   "cell_type": "markdown",
   "id": "5e0050f4-b791-477a-b8c1-e758ba5f9220",
   "metadata": {},
   "source": [
    "# 2. GPT-2 FineTuning on Title Data"
   ]
  },
  {
   "cell_type": "code",
   "execution_count": null,
   "id": "4bd44a26-dd4e-4030-b107-ac6735f9a658",
   "metadata": {},
   "outputs": [
    {
     "name": "stderr",
     "output_type": "stream",
     "text": [
      "Fetching checkpoint: 1.05Mit [00:00, 549Mit/s]                                                      \n",
      "Fetching encoder.json: 1.05Mit [00:00, 1.08Mit/s]                                                   \n",
      "Fetching hparams.json: 1.05Mit [00:00, 548Mit/s]                                                    \n",
      "Fetching model.ckpt.data-00000-of-00001: 498Mit [06:56, 1.20Mit/s]                                  \n",
      "Fetching model.ckpt.index: 1.05Mit [00:00, 1.56Git/s]                                               \n",
      "Fetching model.ckpt.meta: 1.05Mit [00:00, 2.10Mit/s]                                                \n",
      "Fetching vocab.bpe: 1.05Mit [00:00, 2.05Mit/s]                                                      \n"
     ]
    },
    {
     "name": "stdout",
     "output_type": "stream",
     "text": [
      "Loading checkpoint models\\117M\\model.ckpt\n",
      "INFO:tensorflow:Restoring parameters from models\\117M\\model.ckpt\n",
      "Loading dataset...\n"
     ]
    },
    {
     "name": "stderr",
     "output_type": "stream",
     "text": [
      "100%|██████████| 1/1 [00:00<00:00, 166.63it/s]\n"
     ]
    },
    {
     "name": "stdout",
     "output_type": "stream",
     "text": [
      "dataset has 104907 tokens\n",
      "Training...\n",
      "[1 | 49.03] loss=2.56 avg=2.56\n",
      "[2 | 94.90] loss=2.71 avg=2.63\n",
      "[3 | 135.34] loss=2.46 avg=2.58\n",
      "[4 | 182.84] loss=2.38 avg=2.53\n",
      "[5 | 224.21] loss=2.33 avg=2.49\n",
      "[6 | 263.31] loss=2.31 avg=2.46\n",
      "[7 | 302.04] loss=2.40 avg=2.45\n",
      "[8 | 342.65] loss=2.28 avg=2.43\n",
      "[9 | 383.11] loss=2.17 avg=2.40\n",
      "[10 | 423.92] loss=2.18 avg=2.37\n",
      "[11 | 469.94] loss=2.14 avg=2.35\n",
      "[12 | 518.03] loss=2.18 avg=2.34\n",
      "[13 | 562.58] loss=2.19 avg=2.33\n",
      "[14 | 602.37] loss=2.16 avg=2.31\n",
      "[15 | 643.67] loss=2.09 avg=2.30\n",
      "[16 | 684.60] loss=2.05 avg=2.28\n",
      "[17 | 725.02] loss=2.12 avg=2.27\n",
      "[18 | 772.14] loss=2.07 avg=2.26\n",
      "[19 | 820.99] loss=2.05 avg=2.25\n"
     ]
    }
   ],
   "source": [
    "model_name = \"117M\" # \"355M\" = Larger model (1.4 GB)\n",
    "gpt2.download_gpt2(model_name=model_name)   # Saved into current directory under /models/117M/\n",
    "\n",
    "sess = gpt2.start_tf_sess()\n",
    "gpt2.finetune(sess,\n",
    "              'Data/Scraped_physics_titles.csv',\n",
    "              model_name=model_name,\n",
    "              steps=1000,\n",
    "              save_every=200,\n",
    "              sample_every=25)\n",
    "\n",
    "gpt2.generate(sess)"
   ]
  },
  {
   "cell_type": "code",
   "execution_count": null,
   "id": "080ce35f-0cf6-4b0d-895d-dc17379ee179",
   "metadata": {},
   "outputs": [],
   "source": []
  }
 ],
 "metadata": {
  "kernelspec": {
   "display_name": "GPT2_Env",
   "language": "python",
   "name": "gpt2_env"
  },
  "language_info": {
   "codemirror_mode": {
    "name": "ipython",
    "version": 3
   },
   "file_extension": ".py",
   "mimetype": "text/x-python",
   "name": "python",
   "nbconvert_exporter": "python",
   "pygments_lexer": "ipython3",
   "version": "3.8.8"
  }
 },
 "nbformat": 4,
 "nbformat_minor": 5
}
